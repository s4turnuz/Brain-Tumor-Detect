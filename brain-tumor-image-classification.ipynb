{
 "cells": [
  {
   "cell_type": "code",
   "execution_count": 1,
   "id": "b670526e",
   "metadata": {},
   "outputs": [],
   "source": [
    "# Imports\n",
    "import tensorflow as tf\n",
    "import keras as k\n",
    "from keras.models import Sequential\n",
    "from keras.layers import Conv2D, MaxPooling2D, Flatten, Dense"
   ]
  },
  {
   "cell_type": "code",
   "execution_count": 2,
   "id": "a94448a1",
   "metadata": {},
   "outputs": [],
   "source": [
    "# Starting convolutional neural network\n",
    "classifier = Sequential()"
   ]
  },
  {
   "cell_type": "code",
   "execution_count": 3,
   "id": "932dcd4b",
   "metadata": {},
   "outputs": [],
   "source": [
    "# First layer\n",
    "classifier.add(Conv2D(32, (3,3), input_shape=(64, 64, 3), activation = 'relu'))\n",
    "# Pool\n",
    "classifier.add(MaxPooling2D(pool_size = (2, 2)))\n",
    "# Second layer\n",
    "classifier.add(Conv2D(32, (3, 3), activation = 'relu'))\n",
    "# Pool\n",
    "classifier.add(MaxPooling2D(pool_size = (2, 2)))"
   ]
  },
  {
   "cell_type": "code",
   "execution_count": 4,
   "id": "4ac26933",
   "metadata": {},
   "outputs": [],
   "source": [
    "# Flattening\n",
    "classifier.add(Flatten())"
   ]
  },
  {
   "cell_type": "code",
   "execution_count": 5,
   "id": "170aa4ea",
   "metadata": {},
   "outputs": [],
   "source": [
    "# Full connection\n",
    "classifier.add(Dense(units = 128, activation = 'relu'))\n",
    "classifier.add(Dense(units = 1, activation = 'sigmoid'))"
   ]
  },
  {
   "cell_type": "code",
   "execution_count": 6,
   "id": "585342d2",
   "metadata": {},
   "outputs": [],
   "source": [
    "# Network compile\n",
    "classifier.compile(optimizer = 'adam', loss = 'binary_crossentropy', metrics = ['accuracy'])"
   ]
  },
  {
   "cell_type": "code",
   "execution_count": 7,
   "id": "105727b1",
   "metadata": {},
   "outputs": [],
   "source": [
    "# Objects/Models for image pre-processing with Keras\n",
    "from keras.preprocessing.image import ImageDataGenerator\n",
    "\n",
    "train_datagen = ImageDataGenerator(rescale = 1./255,\n",
    "                                   shear_range = 0.2,\n",
    "                                   zoom_range = 0.2,\n",
    "                                   horizontal_flip = True)\n",
    "\n",
    "test_datagen = ImageDataGenerator(rescale = 1./255)"
   ]
  },
  {
   "cell_type": "code",
   "execution_count": 8,
   "id": "fcdb314a",
   "metadata": {},
   "outputs": [
    {
     "name": "stdout",
     "output_type": "stream",
     "text": [
      "Found 197 images belonging to 2 classes.\n",
      "Found 56 images belonging to 2 classes.\n"
     ]
    }
   ],
   "source": [
    "# Pre-processing of training and test images\n",
    "training_set = train_datagen.flow_from_directory('train_dataset',\n",
    "                                                 target_size = (64, 64),\n",
    "                                                 batch_size = 32,\n",
    "                                                 class_mode = 'binary')\n",
    "\n",
    "testing_set = test_datagen.flow_from_directory('test_dataset',\n",
    "                                                        target_size = (64, 64),\n",
    "                                                        batch_size = 32,\n",
    "                                                        class_mode = 'binary')"
   ]
  },
  {
   "cell_type": "code",
   "execution_count": 9,
   "id": "9853c831",
   "metadata": {},
   "outputs": [
    {
     "name": "stdout",
     "output_type": "stream",
     "text": [
      "Epoch 1/50\n",
      "7/7 [==============================] - 2s 112ms/step - loss: 0.7534 - accuracy: 0.4924\n",
      "Epoch 2/50\n",
      "7/7 [==============================] - 1s 105ms/step - loss: 0.6595 - accuracy: 0.6193\n",
      "Epoch 3/50\n",
      "7/7 [==============================] - 1s 117ms/step - loss: 0.6270 - accuracy: 0.6345\n",
      "Epoch 4/50\n",
      "7/7 [==============================] - 1s 119ms/step - loss: 0.5870 - accuracy: 0.7310\n",
      "Epoch 5/50\n",
      "7/7 [==============================] - 1s 101ms/step - loss: 0.5480 - accuracy: 0.7614\n",
      "Epoch 6/50\n",
      "7/7 [==============================] - 1s 97ms/step - loss: 0.5334 - accuracy: 0.7462\n",
      "Epoch 7/50\n",
      "7/7 [==============================] - 1s 105ms/step - loss: 0.5631 - accuracy: 0.7107\n",
      "Epoch 8/50\n",
      "7/7 [==============================] - 1s 122ms/step - loss: 0.5476 - accuracy: 0.7310\n",
      "Epoch 9/50\n",
      "7/7 [==============================] - 1s 120ms/step - loss: 0.5244 - accuracy: 0.7563\n",
      "Epoch 10/50\n",
      "7/7 [==============================] - 1s 106ms/step - loss: 0.5598 - accuracy: 0.6802\n",
      "Epoch 11/50\n",
      "7/7 [==============================] - 1s 105ms/step - loss: 0.4667 - accuracy: 0.8020\n",
      "Epoch 12/50\n",
      "7/7 [==============================] - 1s 108ms/step - loss: 0.5084 - accuracy: 0.7716\n",
      "Epoch 13/50\n",
      "7/7 [==============================] - 1s 101ms/step - loss: 0.4884 - accuracy: 0.7614\n",
      "Epoch 14/50\n",
      "7/7 [==============================] - 1s 108ms/step - loss: 0.5314 - accuracy: 0.7208\n",
      "Epoch 15/50\n",
      "7/7 [==============================] - 1s 108ms/step - loss: 0.4813 - accuracy: 0.7614\n",
      "Epoch 16/50\n",
      "7/7 [==============================] - 1s 111ms/step - loss: 0.4096 - accuracy: 0.8122\n",
      "Epoch 17/50\n",
      "7/7 [==============================] - 1s 100ms/step - loss: 0.4358 - accuracy: 0.8223\n",
      "Epoch 18/50\n",
      "7/7 [==============================] - 1s 109ms/step - loss: 0.3875 - accuracy: 0.8579\n",
      "Epoch 19/50\n",
      "7/7 [==============================] - 1s 125ms/step - loss: 0.3900 - accuracy: 0.8274\n",
      "Epoch 20/50\n",
      "7/7 [==============================] - 1s 172ms/step - loss: 0.4921 - accuracy: 0.7716\n",
      "Epoch 21/50\n",
      "7/7 [==============================] - 1s 185ms/step - loss: 0.4545 - accuracy: 0.7868\n",
      "Epoch 22/50\n",
      "7/7 [==============================] - 1s 156ms/step - loss: 0.4017 - accuracy: 0.8426\n",
      "Epoch 23/50\n",
      "7/7 [==============================] - 1s 169ms/step - loss: 0.3766 - accuracy: 0.8477\n",
      "Epoch 24/50\n",
      "7/7 [==============================] - 1s 134ms/step - loss: 0.3806 - accuracy: 0.8477\n",
      "Epoch 25/50\n",
      "7/7 [==============================] - 1s 176ms/step - loss: 0.3422 - accuracy: 0.8782\n",
      "Epoch 26/50\n",
      "7/7 [==============================] - 1s 204ms/step - loss: 0.3388 - accuracy: 0.8731\n",
      "Epoch 27/50\n",
      "7/7 [==============================] - 2s 198ms/step - loss: 0.4476 - accuracy: 0.8173\n",
      "Epoch 28/50\n",
      "7/7 [==============================] - 1s 143ms/step - loss: 0.4703 - accuracy: 0.7716\n",
      "Epoch 29/50\n",
      "7/7 [==============================] - 1s 137ms/step - loss: 0.4066 - accuracy: 0.8680\n",
      "Epoch 30/50\n",
      "7/7 [==============================] - 1s 129ms/step - loss: 0.3846 - accuracy: 0.8020\n",
      "Epoch 31/50\n",
      "7/7 [==============================] - 1s 151ms/step - loss: 0.3920 - accuracy: 0.8426\n",
      "Epoch 32/50\n",
      "7/7 [==============================] - 1s 125ms/step - loss: 0.3417 - accuracy: 0.8528\n",
      "Epoch 33/50\n",
      "7/7 [==============================] - 1s 163ms/step - loss: 0.3549 - accuracy: 0.8629\n",
      "Epoch 34/50\n",
      "7/7 [==============================] - 1s 136ms/step - loss: 0.3225 - accuracy: 0.8680\n",
      "Epoch 35/50\n",
      "7/7 [==============================] - 1s 182ms/step - loss: 0.3652 - accuracy: 0.8477\n",
      "Epoch 36/50\n",
      "7/7 [==============================] - 1s 125ms/step - loss: 0.2819 - accuracy: 0.8883\n",
      "Epoch 37/50\n",
      "7/7 [==============================] - 1s 133ms/step - loss: 0.3111 - accuracy: 0.8680\n",
      "Epoch 38/50\n",
      "7/7 [==============================] - 1s 160ms/step - loss: 0.3096 - accuracy: 0.8832\n",
      "Epoch 39/50\n",
      "7/7 [==============================] - 1s 203ms/step - loss: 0.3103 - accuracy: 0.8579\n",
      "Epoch 40/50\n",
      "7/7 [==============================] - 1s 171ms/step - loss: 0.2699 - accuracy: 0.8731\n",
      "Epoch 41/50\n",
      "7/7 [==============================] - 1s 168ms/step - loss: 0.2560 - accuracy: 0.9036\n",
      "Epoch 42/50\n",
      "7/7 [==============================] - 1s 149ms/step - loss: 0.3471 - accuracy: 0.8477\n",
      "Epoch 43/50\n",
      "7/7 [==============================] - 1s 132ms/step - loss: 0.3217 - accuracy: 0.8731\n",
      "Epoch 44/50\n",
      "7/7 [==============================] - 1s 135ms/step - loss: 0.3200 - accuracy: 0.8680\n",
      "Epoch 45/50\n",
      "7/7 [==============================] - 1s 125ms/step - loss: 0.2492 - accuracy: 0.9086\n",
      "Epoch 46/50\n",
      "7/7 [==============================] - 1s 146ms/step - loss: 0.2393 - accuracy: 0.8985\n",
      "Epoch 47/50\n",
      "7/7 [==============================] - 1s 132ms/step - loss: 0.2771 - accuracy: 0.9036\n",
      "Epoch 48/50\n",
      "7/7 [==============================] - 1s 132ms/step - loss: 0.2774 - accuracy: 0.8832\n",
      "Epoch 49/50\n",
      "7/7 [==============================] - 1s 127ms/step - loss: 0.2777 - accuracy: 0.8731\n",
      "Epoch 50/50\n",
      "7/7 [==============================] - 1s 147ms/step - loss: 0.2662 - accuracy: 0.8934\n"
     ]
    },
    {
     "data": {
      "text/plain": [
       "<keras.callbacks.History at 0x27a239a5190>"
      ]
     },
     "execution_count": 9,
     "metadata": {},
     "output_type": "execute_result"
    }
   ],
   "source": [
    "# Executing the training, it depends on the capacity of your computer (steps_per_epoch 250 = 500, validation_steps 15 = 50)\n",
    "classifier.fit(training_set,\n",
    "               steps_per_epoch = int(250/32), # batch_size\n",
    "               epochs = 50,\n",
    "               validation_data = testing_set,\n",
    "               validation_steps = int(15/32)) # batch_size"
   ]
  },
  {
   "cell_type": "code",
   "execution_count": 10,
   "id": "13ec4648",
   "metadata": {},
   "outputs": [
    {
     "name": "stdout",
     "output_type": "stream",
     "text": [
      "1/1 [==============================] - 0s 114ms/step\n"
     ]
    }
   ],
   "source": [
    "# Libs for image converter\n",
    "# Manual testing with the \"test_dataset\" :P\n",
    "\n",
    "import numpy as np\n",
    "from keras.preprocessing import image\n",
    "from tensorflow.keras.utils import load_img, img_to_array\n",
    "\n",
    "test_image = load_img('test_dataset/no/No18.jpg', target_size = (64, 64))\n",
    "test_image = img_to_array(test_image)\n",
    "test_image = np.expand_dims(test_image, axis = 0)\n",
    "result = classifier.predict(test_image)\n",
    "training_set.class_indices\n",
    "\n",
    "if result[0][0] == 1:\n",
    "    prediction = 'Tumor'\n",
    "else:\n",
    "    prediction = 'No tumor'\n"
   ]
  },
  {
   "cell_type": "code",
   "execution_count": 11,
   "id": "fecc690c",
   "metadata": {},
   "outputs": [
    {
     "data": {
      "image/png": "[encoded data removed]",
      "text/plain": [
       "<PIL.Image.Image image mode=RGB size=150x150>"
      ]
     },
     "execution_count": 11,
     "metadata": {},
     "output_type": "execute_result"
    }
   ],
   "source": [
    "# Image for visualization\n",
    "load_img('test_dataset/no/No18.jpg', target_size = (150, 150))"
   ]
  },
  {
   "cell_type": "code",
   "execution_count": 12,
   "id": "2f298180",
   "metadata": {},
   "outputs": [
    {
     "data": {
      "text/plain": [
       "'No tumor'"
      ]
     },
     "execution_count": 12,
     "metadata": {},
     "output_type": "execute_result"
    }
   ],
   "source": [
    "# Result\n",
    "prediction"
   ]
  },
  {
   "cell_type": "code",
   "execution_count": null,
   "id": "f48368b8",
   "metadata": {},
   "outputs": [],
   "source": []
  }
 ],
 "metadata": {
  "kernelspec": {
   "display_name": "Python 3 (ipykernel)",
   "language": "python",
   "name": "python3"
  },
  "language_info": {
   "codemirror_mode": {
    "name": "ipython",
    "version": 3
   },
   "file_extension": ".py",
   "mimetype": "text/x-python",
   "name": "python",
   "nbconvert_exporter": "python",
   "pygments_lexer": "ipython3",
   "version": "3.9.13"
  }
 },
 "nbformat": 4,
 "nbformat_minor": 5
}
